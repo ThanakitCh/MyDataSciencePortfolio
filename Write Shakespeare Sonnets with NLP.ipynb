{
  "nbformat": 4,
  "nbformat_minor": 0,
  "metadata": {
    "colab": {
      "name": "Write Shakespeare Sonnets with NLP.ipynb",
      "provenance": [],
      "collapsed_sections": [],
      "toc_visible": true
    },
    "kernelspec": {
      "name": "python3",
      "display_name": "Python 3"
    },
    "accelerator": "GPU"
  },
  "cells": [
    {
      "cell_type": "markdown",
      "metadata": {
        "id": "7W0zszYrRP2a",
        "colab_type": "text"
      },
      "source": [
        "# **Write Shakespeare Sonnets with NLP**\n",
        "\n",
        "---\n",
        "\n",
        "\n",
        "For this project, I’ll take a corpus of Shakespeare sonnets, and use them to train a model. Then, see if that model can create poetry!\n",
        "\n",
        "**File Description**\n",
        "\n",
        "sonnets.txt : Text file containing all of William Shakespeare's sonnets where each sonnet is separated by a two newline characters."
      ]
    },
    {
      "cell_type": "code",
      "metadata": {
        "id": "K2Gx_jtfmdQJ",
        "colab_type": "code",
        "colab": {
          "base_uri": "https://localhost:8080/",
          "height": 35
        },
        "outputId": "93e20db4-7057-4324-c510-d1a492365675"
      },
      "source": [
        "%tensorflow_version 2.x"
      ],
      "execution_count": 1,
      "outputs": [
        {
          "output_type": "stream",
          "text": [
            "TensorFlow 2.x selected.\n"
          ],
          "name": "stdout"
        }
      ]
    },
    {
      "cell_type": "code",
      "metadata": {
        "id": "u-yXAdSx2uKx",
        "colab_type": "code",
        "colab": {}
      },
      "source": [
        "from tensorflow.keras.preprocessing.text import Tokenizer\n",
        "from tensorflow.keras.preprocessing.sequence import pad_sequences\n",
        "import tensorflow.keras.utils as ku \n",
        "import numpy as np \n",
        "\n",
        "\n",
        "tokenizer = Tokenizer()\n",
        "data = open('/content/sonnets.txt').read()\n",
        "\n",
        "corpus = data.lower().split(\"\\n\")\n",
        "\n",
        "\n",
        "tokenizer.fit_on_texts(corpus)\n",
        "total_words = len(tokenizer.word_index) + 1\n",
        "\n",
        "# create input sequences using list of tokens\n",
        "input_sequences = []\n",
        "for line in corpus:\n",
        "\ttoken_list = tokenizer.texts_to_sequences([line])[0]\n",
        "\tfor i in range(1, len(token_list)):\n",
        "\t\tn_gram_sequence = token_list[:i+1]\n",
        "\t\tinput_sequences.append(n_gram_sequence)\n",
        "\n",
        "\n",
        "# pad sequences \n",
        "max_sequence_len = max([len(x) for x in input_sequences])\n",
        "input_sequences = np.array(pad_sequences(input_sequences, maxlen=max_sequence_len, padding='pre'))\n",
        "\n",
        "# create predictors and label\n",
        "predictors, label = input_sequences[:,:-1],input_sequences[:,-1]\n",
        "\n",
        "label = ku.to_categorical(label, num_classes=total_words)"
      ],
      "execution_count": 0,
      "outputs": []
    },
    {
      "cell_type": "code",
      "metadata": {
        "id": "XKa1isrD3al7",
        "colab_type": "code",
        "colab": {}
      },
      "source": [
        "from tensorflow.keras.models import Sequential\n",
        "from tensorflow.keras.layers import Embedding, LSTM, Dense, Dropout, Bidirectional\n",
        "from tensorflow.keras.optimizers import Adam\n",
        "\n",
        "model = Sequential()\n",
        "model.add(Embedding(total_words, 100, input_length=max_sequence_len-1))\n",
        "model.add(Bidirectional(LSTM(150, return_sequences = True)))\n",
        "model.add(Dropout(0.2))\n",
        "model.add(LSTM(100))\n",
        "model.add(Dense(total_words/2, activation='relu'))\n",
        "model.add(Dense(total_words, activation='softmax'))\n",
        "model.compile(loss='categorical_crossentropy', optimizer='adam', metrics=['accuracy'])"
      ],
      "execution_count": 0,
      "outputs": []
    },
    {
      "cell_type": "code",
      "metadata": {
        "id": "O88-FGFelC2I",
        "colab_type": "code",
        "colab": {
          "base_uri": "https://localhost:8080/",
          "height": 381
        },
        "outputId": "f85b5298-66cf-41e3-9783-71237af1b842"
      },
      "source": [
        "print(model.summary())"
      ],
      "execution_count": 4,
      "outputs": [
        {
          "output_type": "stream",
          "text": [
            "Model: \"sequential\"\n",
            "_________________________________________________________________\n",
            "Layer (type)                 Output Shape              Param #   \n",
            "=================================================================\n",
            "embedding (Embedding)        (None, 10, 100)           321100    \n",
            "_________________________________________________________________\n",
            "bidirectional (Bidirectional (None, 10, 300)           301200    \n",
            "_________________________________________________________________\n",
            "dropout (Dropout)            (None, 10, 300)           0         \n",
            "_________________________________________________________________\n",
            "lstm_1 (LSTM)                (None, 100)               160400    \n",
            "_________________________________________________________________\n",
            "dense (Dense)                (None, 1605)              162105    \n",
            "_________________________________________________________________\n",
            "dense_1 (Dense)              (None, 3211)              5156866   \n",
            "=================================================================\n",
            "Total params: 6,101,671\n",
            "Trainable params: 6,101,671\n",
            "Non-trainable params: 0\n",
            "_________________________________________________________________\n",
            "None\n"
          ],
          "name": "stdout"
        }
      ]
    },
    {
      "cell_type": "code",
      "metadata": {
        "id": "GCbcj4Du3cs2",
        "colab_type": "code",
        "colab": {
          "base_uri": "https://localhost:8080/",
          "height": 1000
        },
        "outputId": "58ac7f1c-8dc0-44b9-aee2-3ca47e74c814"
      },
      "source": [
        " history = model.fit(predictors, label, epochs=100, verbose=1)"
      ],
      "execution_count": 5,
      "outputs": [
        {
          "output_type": "stream",
          "text": [
            "Train on 15462 samples\n",
            "Epoch 1/100\n",
            "15462/15462 [==============================] - 10s 626us/sample - loss: 6.8054 - accuracy: 0.0230\n",
            "Epoch 2/100\n",
            "15462/15462 [==============================] - 6s 387us/sample - loss: 6.4351 - accuracy: 0.0323\n",
            "Epoch 3/100\n",
            "15462/15462 [==============================] - 6s 391us/sample - loss: 6.2302 - accuracy: 0.0349\n",
            "Epoch 4/100\n",
            "15462/15462 [==============================] - 6s 382us/sample - loss: 6.0194 - accuracy: 0.0428\n",
            "Epoch 5/100\n",
            "15462/15462 [==============================] - 6s 378us/sample - loss: 5.7722 - accuracy: 0.0509\n",
            "Epoch 6/100\n",
            "15462/15462 [==============================] - 6s 381us/sample - loss: 5.5030 - accuracy: 0.0647\n",
            "Epoch 7/100\n",
            "15462/15462 [==============================] - 6s 386us/sample - loss: 5.2367 - accuracy: 0.0753\n",
            "Epoch 8/100\n",
            "15462/15462 [==============================] - 6s 377us/sample - loss: 4.9581 - accuracy: 0.0901\n",
            "Epoch 9/100\n",
            "15462/15462 [==============================] - 6s 376us/sample - loss: 4.6667 - accuracy: 0.1058\n",
            "Epoch 10/100\n",
            "15462/15462 [==============================] - 6s 379us/sample - loss: 4.3456 - accuracy: 0.1337\n",
            "Epoch 11/100\n",
            "15462/15462 [==============================] - 6s 379us/sample - loss: 4.0061 - accuracy: 0.1668\n",
            "Epoch 12/100\n",
            "15462/15462 [==============================] - 6s 382us/sample - loss: 3.6440 - accuracy: 0.2129\n",
            "Epoch 13/100\n",
            "15462/15462 [==============================] - 6s 381us/sample - loss: 3.3050 - accuracy: 0.2661\n",
            "Epoch 14/100\n",
            "15462/15462 [==============================] - 6s 379us/sample - loss: 2.9699 - accuracy: 0.3242\n",
            "Epoch 15/100\n",
            "15462/15462 [==============================] - 6s 375us/sample - loss: 2.6408 - accuracy: 0.3866\n",
            "Epoch 16/100\n",
            "15462/15462 [==============================] - 6s 380us/sample - loss: 2.3788 - accuracy: 0.4371\n",
            "Epoch 17/100\n",
            "15462/15462 [==============================] - 6s 385us/sample - loss: 2.1276 - accuracy: 0.4891\n",
            "Epoch 18/100\n",
            "15462/15462 [==============================] - 6s 384us/sample - loss: 1.9071 - accuracy: 0.5385\n",
            "Epoch 19/100\n",
            "15462/15462 [==============================] - 6s 375us/sample - loss: 1.7267 - accuracy: 0.5805\n",
            "Epoch 20/100\n",
            "15462/15462 [==============================] - 6s 382us/sample - loss: 1.5690 - accuracy: 0.6173\n",
            "Epoch 21/100\n",
            "15462/15462 [==============================] - 6s 389us/sample - loss: 1.4311 - accuracy: 0.6478\n",
            "Epoch 22/100\n",
            "15462/15462 [==============================] - 6s 385us/sample - loss: 1.3071 - accuracy: 0.6801\n",
            "Epoch 23/100\n",
            "15462/15462 [==============================] - 6s 383us/sample - loss: 1.2094 - accuracy: 0.7026\n",
            "Epoch 24/100\n",
            "15462/15462 [==============================] - 6s 379us/sample - loss: 1.1231 - accuracy: 0.7203\n",
            "Epoch 25/100\n",
            "15462/15462 [==============================] - 6s 372us/sample - loss: 1.0528 - accuracy: 0.7394\n",
            "Epoch 26/100\n",
            "15462/15462 [==============================] - 6s 374us/sample - loss: 0.9620 - accuracy: 0.7660\n",
            "Epoch 27/100\n",
            "15462/15462 [==============================] - 6s 373us/sample - loss: 0.9246 - accuracy: 0.7688\n",
            "Epoch 28/100\n",
            "15462/15462 [==============================] - 6s 379us/sample - loss: 0.9021 - accuracy: 0.7725\n",
            "Epoch 29/100\n",
            "15462/15462 [==============================] - 6s 388us/sample - loss: 0.8569 - accuracy: 0.7818\n",
            "Epoch 30/100\n",
            "15462/15462 [==============================] - 6s 379us/sample - loss: 0.8085 - accuracy: 0.7967\n",
            "Epoch 31/100\n",
            "15462/15462 [==============================] - 6s 380us/sample - loss: 0.8016 - accuracy: 0.7936\n",
            "Epoch 32/100\n",
            "15462/15462 [==============================] - 6s 376us/sample - loss: 0.7646 - accuracy: 0.8047\n",
            "Epoch 33/100\n",
            "15462/15462 [==============================] - 6s 381us/sample - loss: 0.7216 - accuracy: 0.8169\n",
            "Epoch 34/100\n",
            "15462/15462 [==============================] - 6s 373us/sample - loss: 0.7143 - accuracy: 0.8188\n",
            "Epoch 35/100\n",
            "15462/15462 [==============================] - 6s 380us/sample - loss: 0.7349 - accuracy: 0.8088\n",
            "Epoch 36/100\n",
            "15462/15462 [==============================] - 6s 375us/sample - loss: 0.7246 - accuracy: 0.8112\n",
            "Epoch 37/100\n",
            "15462/15462 [==============================] - 6s 377us/sample - loss: 0.6844 - accuracy: 0.8219\n",
            "Epoch 38/100\n",
            "15462/15462 [==============================] - 6s 397us/sample - loss: 0.6643 - accuracy: 0.8273\n",
            "Epoch 39/100\n",
            "15462/15462 [==============================] - 6s 375us/sample - loss: 0.6558 - accuracy: 0.8264\n",
            "Epoch 40/100\n",
            "15462/15462 [==============================] - 6s 374us/sample - loss: 0.6386 - accuracy: 0.8317\n",
            "Epoch 41/100\n",
            "15462/15462 [==============================] - 6s 379us/sample - loss: 0.6280 - accuracy: 0.8335\n",
            "Epoch 42/100\n",
            "15462/15462 [==============================] - 6s 377us/sample - loss: 0.6350 - accuracy: 0.8294\n",
            "Epoch 43/100\n",
            "15462/15462 [==============================] - 6s 381us/sample - loss: 0.6495 - accuracy: 0.8240\n",
            "Epoch 44/100\n",
            "15462/15462 [==============================] - 6s 379us/sample - loss: 0.6386 - accuracy: 0.8279\n",
            "Epoch 45/100\n",
            "15462/15462 [==============================] - 6s 381us/sample - loss: 0.6196 - accuracy: 0.8302\n",
            "Epoch 46/100\n",
            "15462/15462 [==============================] - 6s 378us/sample - loss: 0.6061 - accuracy: 0.8331\n",
            "Epoch 47/100\n",
            "15462/15462 [==============================] - 6s 375us/sample - loss: 0.6063 - accuracy: 0.8358\n",
            "Epoch 48/100\n",
            "15462/15462 [==============================] - 6s 378us/sample - loss: 0.5993 - accuracy: 0.8360\n",
            "Epoch 49/100\n",
            "15462/15462 [==============================] - 6s 380us/sample - loss: 0.5988 - accuracy: 0.8357\n",
            "Epoch 50/100\n",
            "15462/15462 [==============================] - 6s 376us/sample - loss: 0.5886 - accuracy: 0.8369\n",
            "Epoch 51/100\n",
            "15462/15462 [==============================] - 6s 376us/sample - loss: 0.5875 - accuracy: 0.8362\n",
            "Epoch 52/100\n",
            "15462/15462 [==============================] - 6s 376us/sample - loss: 0.5850 - accuracy: 0.8392\n",
            "Epoch 53/100\n",
            "15462/15462 [==============================] - 6s 378us/sample - loss: 0.5737 - accuracy: 0.8406\n",
            "Epoch 54/100\n",
            "15462/15462 [==============================] - 6s 374us/sample - loss: 0.5669 - accuracy: 0.8412\n",
            "Epoch 55/100\n",
            "15462/15462 [==============================] - 6s 378us/sample - loss: 0.5682 - accuracy: 0.8406\n",
            "Epoch 56/100\n",
            "15462/15462 [==============================] - 6s 375us/sample - loss: 0.5730 - accuracy: 0.8397\n",
            "Epoch 57/100\n",
            "15462/15462 [==============================] - 6s 378us/sample - loss: 0.5870 - accuracy: 0.8330\n",
            "Epoch 58/100\n",
            "15462/15462 [==============================] - 6s 383us/sample - loss: 0.5852 - accuracy: 0.8342\n",
            "Epoch 59/100\n",
            "15462/15462 [==============================] - 6s 378us/sample - loss: 0.5704 - accuracy: 0.8381\n",
            "Epoch 60/100\n",
            "15462/15462 [==============================] - 6s 376us/sample - loss: 0.5564 - accuracy: 0.8413\n",
            "Epoch 61/100\n",
            "15462/15462 [==============================] - 6s 375us/sample - loss: 0.5509 - accuracy: 0.8428\n",
            "Epoch 62/100\n",
            "15462/15462 [==============================] - 6s 370us/sample - loss: 0.5538 - accuracy: 0.8391\n",
            "Epoch 63/100\n",
            "15462/15462 [==============================] - 6s 379us/sample - loss: 0.5602 - accuracy: 0.8376\n",
            "Epoch 64/100\n",
            "15462/15462 [==============================] - 6s 390us/sample - loss: 0.5588 - accuracy: 0.8385\n",
            "Epoch 65/100\n",
            "15462/15462 [==============================] - 6s 381us/sample - loss: 0.5560 - accuracy: 0.8409\n",
            "Epoch 66/100\n",
            "15462/15462 [==============================] - 6s 380us/sample - loss: 0.5368 - accuracy: 0.8449\n",
            "Epoch 67/100\n",
            "15462/15462 [==============================] - 6s 376us/sample - loss: 0.5285 - accuracy: 0.8471\n",
            "Epoch 68/100\n",
            "15462/15462 [==============================] - 6s 378us/sample - loss: 0.5448 - accuracy: 0.8409\n",
            "Epoch 69/100\n",
            "15462/15462 [==============================] - 6s 386us/sample - loss: 0.5551 - accuracy: 0.8381\n",
            "Epoch 70/100\n",
            "15462/15462 [==============================] - 6s 386us/sample - loss: 0.5513 - accuracy: 0.8378\n",
            "Epoch 71/100\n",
            "15462/15462 [==============================] - 6s 387us/sample - loss: 0.5380 - accuracy: 0.8417\n",
            "Epoch 72/100\n",
            "15462/15462 [==============================] - 6s 389us/sample - loss: 0.5317 - accuracy: 0.8437\n",
            "Epoch 73/100\n",
            "15462/15462 [==============================] - 6s 391us/sample - loss: 0.5349 - accuracy: 0.8437\n",
            "Epoch 74/100\n",
            "15462/15462 [==============================] - 6s 415us/sample - loss: 0.5394 - accuracy: 0.8426\n",
            "Epoch 75/100\n",
            "15462/15462 [==============================] - 6s 395us/sample - loss: 0.5458 - accuracy: 0.8393\n",
            "Epoch 76/100\n",
            "15462/15462 [==============================] - 6s 383us/sample - loss: 0.5335 - accuracy: 0.8414\n",
            "Epoch 77/100\n",
            "15462/15462 [==============================] - 6s 385us/sample - loss: 0.5286 - accuracy: 0.8449\n",
            "Epoch 78/100\n",
            "15462/15462 [==============================] - 6s 386us/sample - loss: 0.5192 - accuracy: 0.8467\n",
            "Epoch 79/100\n",
            "15462/15462 [==============================] - 6s 392us/sample - loss: 0.5224 - accuracy: 0.8439\n",
            "Epoch 80/100\n",
            "15462/15462 [==============================] - 6s 396us/sample - loss: 0.5447 - accuracy: 0.8379\n",
            "Epoch 81/100\n",
            "15462/15462 [==============================] - 6s 399us/sample - loss: 0.5447 - accuracy: 0.8401\n",
            "Epoch 82/100\n",
            "15462/15462 [==============================] - 6s 390us/sample - loss: 0.5360 - accuracy: 0.8414\n",
            "Epoch 83/100\n",
            "15462/15462 [==============================] - 6s 384us/sample - loss: 0.5267 - accuracy: 0.8423\n",
            "Epoch 84/100\n",
            "15462/15462 [==============================] - 6s 383us/sample - loss: 0.5143 - accuracy: 0.8463\n",
            "Epoch 85/100\n",
            "15462/15462 [==============================] - 6s 388us/sample - loss: 0.5240 - accuracy: 0.8438\n",
            "Epoch 86/100\n",
            "15462/15462 [==============================] - 6s 383us/sample - loss: 0.5339 - accuracy: 0.8404\n",
            "Epoch 87/100\n",
            "15462/15462 [==============================] - 6s 375us/sample - loss: 0.5235 - accuracy: 0.8448\n",
            "Epoch 88/100\n",
            "15462/15462 [==============================] - 6s 372us/sample - loss: 0.5172 - accuracy: 0.8432\n",
            "Epoch 89/100\n",
            "15462/15462 [==============================] - 6s 375us/sample - loss: 0.5174 - accuracy: 0.8437\n",
            "Epoch 90/100\n",
            "15462/15462 [==============================] - 6s 375us/sample - loss: 0.5294 - accuracy: 0.8408\n",
            "Epoch 91/100\n",
            "15462/15462 [==============================] - 6s 374us/sample - loss: 0.5116 - accuracy: 0.8458\n",
            "Epoch 92/100\n",
            "15462/15462 [==============================] - 6s 379us/sample - loss: 0.5145 - accuracy: 0.8460\n",
            "Epoch 93/100\n",
            "15462/15462 [==============================] - 6s 374us/sample - loss: 0.5025 - accuracy: 0.8480\n",
            "Epoch 94/100\n",
            "15462/15462 [==============================] - 6s 378us/sample - loss: 0.5071 - accuracy: 0.8470\n",
            "Epoch 95/100\n",
            "15462/15462 [==============================] - 6s 373us/sample - loss: 0.5317 - accuracy: 0.8411\n",
            "Epoch 96/100\n",
            "15462/15462 [==============================] - 6s 374us/sample - loss: 0.5142 - accuracy: 0.8430\n",
            "Epoch 97/100\n",
            "15462/15462 [==============================] - 6s 371us/sample - loss: 0.5180 - accuracy: 0.8426\n",
            "Epoch 98/100\n",
            "15462/15462 [==============================] - 6s 379us/sample - loss: 0.5225 - accuracy: 0.8435\n",
            "Epoch 99/100\n",
            "15462/15462 [==============================] - 6s 379us/sample - loss: 0.5200 - accuracy: 0.8440\n",
            "Epoch 100/100\n",
            "15462/15462 [==============================] - 6s 376us/sample - loss: 0.5168 - accuracy: 0.8446\n"
          ],
          "name": "stdout"
        }
      ]
    },
    {
      "cell_type": "code",
      "metadata": {
        "id": "DgPvs7jr3e1a",
        "colab_type": "code",
        "colab": {
          "base_uri": "https://localhost:8080/",
          "height": 545
        },
        "outputId": "27c9e493-e501-4d7b-8438-5968b223d33f"
      },
      "source": [
        "import matplotlib.pyplot as plt\n",
        "acc = history.history['accuracy']\n",
        "loss = history.history['loss']\n",
        "\n",
        "epochs = range(len(acc))\n",
        "\n",
        "plt.plot(epochs, acc, 'b', label='Training accuracy')\n",
        "plt.title('Training accuracy')\n",
        "\n",
        "plt.figure()\n",
        "\n",
        "plt.plot(epochs, loss, 'b', label='Training Loss')\n",
        "plt.title('Training loss')\n",
        "plt.legend()\n",
        "\n",
        "plt.show()"
      ],
      "execution_count": 6,
      "outputs": [
        {
          "output_type": "display_data",
          "data": {
            "image/png": "[encoded data removed]",
            "text/plain": [
              "<Figure size 432x288 with 1 Axes>"
            ]
          },
          "metadata": {
            "tags": []
          }
        },
        {
          "output_type": "display_data",
          "data": {
            "image/png": "[encoded data removed]",
            "text/plain": [
              "<Figure size 432x288 with 1 Axes>"
            ]
          },
          "metadata": {
            "tags": []
          }
        }
      ]
    },
    {
      "cell_type": "code",
      "metadata": {
        "id": "GALx0BqekNwk",
        "colab_type": "code",
        "colab": {
          "base_uri": "https://localhost:8080/",
          "height": 55
        },
        "outputId": "efd65b1a-cb16-43ae-e539-aedcbcfdd430"
      },
      "source": [
        "seed_text = \"Help me Obi Wan Kenobi, you're my only hope\"\n",
        "next_words = 100\n",
        "  \n",
        "for _ in range(next_words):\n",
        "\ttoken_list = tokenizer.texts_to_sequences([seed_text])[0]\n",
        "\ttoken_list = pad_sequences([token_list], maxlen=max_sequence_len-1, padding='pre')\n",
        "\tpredicted = model.predict_classes(token_list, verbose=0)\n",
        "\toutput_word = \"\"\n",
        "\tfor word, index in tokenizer.word_index.items():\n",
        "\t\tif index == predicted:\n",
        "\t\t\toutput_word = word\n",
        "\t\t\tbreak\n",
        "\tseed_text += \" \" + output_word\n",
        "print(seed_text)"
      ],
      "execution_count": 7,
      "outputs": [
        {
          "output_type": "stream",
          "text": [
            "Help me Obi Wan Kenobi, you're my only hope what deceived strong love be strong might place thee all be dead still so rare free be old near perceived now me old date alone new young to tell men ' forth men ' forth his fair verse can hate all more ' alone light still now green one live date to thee alone need in thee this not abuse me ' him dead ' alone are seen a tomb me light date alone young to store truth truth lust in sun decrease hours lust in sun number'd hours lust in sun number'd hours lust in sun and trust hours\n"
          ],
          "name": "stdout"
        }
      ]
    }
  ]
}