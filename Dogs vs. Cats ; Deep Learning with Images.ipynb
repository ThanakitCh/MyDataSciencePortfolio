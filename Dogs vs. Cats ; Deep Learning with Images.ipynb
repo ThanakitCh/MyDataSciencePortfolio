{
  "nbformat": 4,
  "nbformat_minor": 0,
  "metadata": {
    "colab": {
      "name": "Dogs vs. Cats : Deep Learning with Images.ipynb",
      "provenance": [],
      "collapsed_sections": [],
      "toc_visible": true
    },
    "kernelspec": {
      "name": "python3",
      "display_name": "Python 3"
    },
    "accelerator": "GPU"
  },
  "cells": [
    {
      "cell_type": "markdown",
      "metadata": {
        "id": "ahbS52V0rKMk",
        "colab_type": "text"
      },
      "source": [
        "# **Dogs vs. Cats : Deep Learning with Images**\n",
        "\n",
        "\n",
        "---\n",
        "\n",
        "\n",
        "\n",
        "Build a convolutional neural network to classify whether images contain either a dog or a cat."
      ]
    },
    {
      "cell_type": "markdown",
      "metadata": {
        "id": "Kqg073aZo1CX",
        "colab_type": "text"
      },
      "source": [
        "**Explore the Example Data**\n",
        "\n",
        "\n",
        "---\n",
        "\n",
        "\n",
        "The 2,000 images used in this project are excerpted from the [\"Dogs vs. Cats\" dataset](https://www.kaggle.com/c/dogs-vs-cats) available on Kaggle, which contains 25,000 images. Here, we use a subset of the full dataset to decrease training time. "
      ]
    },
    {
      "cell_type": "code",
      "metadata": {
        "id": "LjiXCnvIjNs0",
        "colab_type": "code",
        "colab": {}
      },
      "source": [
        "import os\n",
        "import zipfile\n",
        "\n",
        "local_zip = '/content/cats_and_dogs_filtered.zip'\n",
        "zip_ref = zipfile.ZipFile(local_zip, 'r')\n",
        "zip_ref.extractall('/content')\n",
        "zip_ref.close()\n",
        "\n",
        "base_dir = '/content/cats_and_dogs_filtered'\n",
        "train_dir = os.path.join(base_dir, 'train')\n",
        "validation_dir = os.path.join(base_dir, 'validation')\n",
        "\n",
        "# Directory with our training cat/dog pictures\n",
        "train_cats_dir = os.path.join(train_dir, 'cats')\n",
        "train_dogs_dir = os.path.join(train_dir, 'dogs')\n",
        "\n",
        "# Directory with our validation cat/dog pictures\n",
        "validation_cats_dir = os.path.join(validation_dir, 'cats')\n",
        "validation_dogs_dir = os.path.join(validation_dir, 'dogs')"
      ],
      "execution_count": 0,
      "outputs": []
    },
    {
      "cell_type": "markdown",
      "metadata": {
        "id": "PAHe3mdGpYR0",
        "colab_type": "text"
      },
      "source": [
        "Let's find out the total number of cat and dog images in the `train` and `validation` directories:"
      ]
    },
    {
      "cell_type": "code",
      "metadata": {
        "id": "2Wtwf2h1jo2T",
        "colab_type": "code",
        "outputId": "c6e0d112-f2e3-4a28-8ea3-8c0251431cd5",
        "colab": {
          "base_uri": "https://localhost:8080/",
          "height": 85
        }
      },
      "source": [
        "train_cat_fnames = os.listdir( train_cats_dir )\n",
        "train_dog_fnames = os.listdir( train_dogs_dir )\n",
        "\n",
        "print('total training cat images :', len(os.listdir(train_cats_dir)))\n",
        "print('total training dog images :', len(os.listdir(train_dogs_dir)))\n",
        "\n",
        "print('total validation cat images :', len(os.listdir(validation_cats_dir)))\n",
        "print('total validation dog images :', len(os.listdir(validation_dogs_dir)))"
      ],
      "execution_count": 2,
      "outputs": [
        {
          "output_type": "stream",
          "text": [
            "total training cat images : 1000\n",
            "total training dog images : 1000\n",
            "total validation cat images : 500\n",
            "total validation dog images : 500\n"
          ],
          "name": "stdout"
        }
      ]
    },
    {
      "cell_type": "markdown",
      "metadata": {
        "id": "EDV85ov-qaLP",
        "colab_type": "text"
      },
      "source": [
        "**Building a Small Model from Scratch to Get to ~80% Accuracy**\n",
        "\n",
        "\n",
        "---\n",
        "\n",
        "\n",
        "Step 1 : Define a Sequential layer, adding some convolutional layers first."
      ]
    },
    {
      "cell_type": "code",
      "metadata": {
        "id": "ahPQtCPaK6JK",
        "colab_type": "code",
        "colab": {}
      },
      "source": [
        "%tensorflow_version 1.x"
      ],
      "execution_count": 0,
      "outputs": []
    },
    {
      "cell_type": "code",
      "metadata": {
        "id": "4FO4Hu-wlsDM",
        "colab_type": "code",
        "colab": {}
      },
      "source": [
        "import tensorflow as tf\n",
        "from tensorflow.keras.optimizers import RMSprop\n",
        "\n",
        "model = tf.keras.models.Sequential([\n",
        "    tf.keras.layers.Conv2D(32, (3,3), activation='relu', input_shape=(150, 150, 3)),\n",
        "    tf.keras.layers.MaxPooling2D(2, 2),\n",
        "    tf.keras.layers.Conv2D(64, (3,3), activation='relu'),\n",
        "    tf.keras.layers.MaxPooling2D(2,2),\n",
        "    tf.keras.layers.Conv2D(128, (3,3), activation='relu'),\n",
        "    tf.keras.layers.MaxPooling2D(2,2),\n",
        "    tf.keras.layers.Conv2D(128, (3,3), activation='relu'),\n",
        "    tf.keras.layers.MaxPooling2D(2,2),\n",
        "    tf.keras.layers.Flatten(),\n",
        "    tf.keras.layers.Dense(512, activation='relu'), \n",
        "    tf.keras.layers.Dropout(0.2),\n",
        "    tf.keras.layers.Dense(1, activation='sigmoid')\n",
        "])\n",
        "\n",
        "model.compile(loss='binary_crossentropy',\n",
        "              optimizer=RMSprop(lr=1e-4),\n",
        "              metrics=['acc'])"
      ],
      "execution_count": 0,
      "outputs": []
    },
    {
      "cell_type": "markdown",
      "metadata": {
        "id": "UBsEabofrbi3",
        "colab_type": "text"
      },
      "source": [
        "Step 2 : Data preprocessing"
      ]
    },
    {
      "cell_type": "code",
      "metadata": {
        "id": "NjZpBzfKmZiS",
        "colab_type": "code",
        "outputId": "177c5994-9c49-4146-f76c-62215aa7e2ff",
        "colab": {
          "base_uri": "https://localhost:8080/",
          "height": 51
        }
      },
      "source": [
        "from tensorflow.keras.preprocessing.image import ImageDataGenerator\n",
        "\n",
        "train_datagen = ImageDataGenerator(\n",
        "      rescale=1./255,\n",
        "      rotation_range=40,\n",
        "      width_shift_range=0.2,\n",
        "      height_shift_range=0.2,\n",
        "      shear_range=0.2,\n",
        "      zoom_range=0.2,\n",
        "      horizontal_flip=True,\n",
        "      fill_mode='nearest')\n",
        "\n",
        "test_datagen = ImageDataGenerator(rescale=1./255)\n",
        "\n",
        "train_generator = train_datagen.flow_from_directory(\n",
        "        train_dir,\n",
        "        target_size=(150, 150),\n",
        "        batch_size=20,\n",
        "        class_mode='binary')\n",
        "\n",
        "validation_generator = test_datagen.flow_from_directory(\n",
        "        validation_dir,  \n",
        "        target_size=(150, 150),\n",
        "        batch_size=20,\n",
        "        class_mode='binary')\n"
      ],
      "execution_count": 5,
      "outputs": [
        {
          "output_type": "stream",
          "text": [
            "Found 2000 images belonging to 2 classes.\n",
            "Found 1000 images belonging to 2 classes.\n"
          ],
          "name": "stdout"
        }
      ]
    },
    {
      "cell_type": "markdown",
      "metadata": {
        "id": "q4aqUuN7s3vb",
        "colab_type": "text"
      },
      "source": [
        "Step 3 : Training and control training by using Callbacks.\n",
        "\n"
      ]
    },
    {
      "cell_type": "code",
      "metadata": {
        "id": "9eDwCgiyjvZo",
        "colab_type": "code",
        "colab": {}
      },
      "source": [
        "class myCallback(tf.keras.callbacks.Callback):\n",
        "  def on_epoch_end(self, epoch, logs={}):\n",
        "    if(logs.get('acc')>0.8):\n",
        "      print(\"\\nReached 80% accuracy so cancelling training!\")\n",
        "      self.model.stop_training = True\n",
        "      \n",
        "callbacks = myCallback()"
      ],
      "execution_count": 0,
      "outputs": []
    },
    {
      "cell_type": "code",
      "metadata": {
        "id": "oJhLeECCmgFE",
        "colab_type": "code",
        "outputId": "8f0cdb63-0584-4c1b-ee4a-5df71f750b61",
        "colab": {
          "base_uri": "https://localhost:8080/",
          "height": 1000
        }
      },
      "source": [
        "history = model.fit_generator(\n",
        "      train_generator,\n",
        "      steps_per_epoch=100,  \n",
        "      epochs=100,\n",
        "      verbose=2,\n",
        "      validation_data = validation_generator,\n",
        "      validation_steps=50, \n",
        "      callbacks=[callbacks])"
      ],
      "execution_count": 7,
      "outputs": [
        {
          "output_type": "stream",
          "text": [
            "Epoch 1/100\n",
            "Epoch 1/100\n",
            "100/100 - 21s - loss: 0.6932 - acc: 0.5135 - val_loss: 0.6938 - val_acc: 0.4990\n",
            "Epoch 2/100\n",
            "Epoch 1/100\n",
            "100/100 - 18s - loss: 0.6785 - acc: 0.5650 - val_loss: 0.6528 - val_acc: 0.6220\n",
            "Epoch 3/100\n",
            "Epoch 1/100\n",
            "100/100 - 18s - loss: 0.6653 - acc: 0.5825 - val_loss: 0.6525 - val_acc: 0.6020\n",
            "Epoch 4/100\n",
            "Epoch 1/100\n",
            "100/100 - 18s - loss: 0.6545 - acc: 0.6120 - val_loss: 0.6236 - val_acc: 0.6450\n",
            "Epoch 5/100\n",
            "Epoch 1/100\n",
            "100/100 - 18s - loss: 0.6498 - acc: 0.6095 - val_loss: 0.6096 - val_acc: 0.6610\n",
            "Epoch 6/100\n",
            "Epoch 1/100\n",
            "100/100 - 18s - loss: 0.6337 - acc: 0.6370 - val_loss: 0.6152 - val_acc: 0.6560\n",
            "Epoch 7/100\n",
            "Epoch 1/100\n",
            "100/100 - 18s - loss: 0.6239 - acc: 0.6520 - val_loss: 0.5874 - val_acc: 0.6920\n",
            "Epoch 8/100\n",
            "Epoch 1/100\n",
            "100/100 - 18s - loss: 0.6037 - acc: 0.6665 - val_loss: 0.6059 - val_acc: 0.6520\n",
            "Epoch 9/100\n",
            "Epoch 1/100\n",
            "100/100 - 17s - loss: 0.5989 - acc: 0.6740 - val_loss: 0.6050 - val_acc: 0.6630\n",
            "Epoch 10/100\n",
            "Epoch 1/100\n",
            "100/100 - 18s - loss: 0.5905 - acc: 0.6790 - val_loss: 0.5491 - val_acc: 0.7200\n",
            "Epoch 11/100\n",
            "Epoch 1/100\n",
            "100/100 - 18s - loss: 0.5850 - acc: 0.6950 - val_loss: 0.5545 - val_acc: 0.7060\n",
            "Epoch 12/100\n",
            "Epoch 1/100\n",
            "100/100 - 17s - loss: 0.5861 - acc: 0.6880 - val_loss: 0.5613 - val_acc: 0.6920\n",
            "Epoch 13/100\n",
            "Epoch 1/100\n",
            "100/100 - 17s - loss: 0.5846 - acc: 0.6920 - val_loss: 0.5400 - val_acc: 0.7140\n",
            "Epoch 14/100\n",
            "Epoch 1/100\n",
            "100/100 - 17s - loss: 0.5598 - acc: 0.7060 - val_loss: 0.5389 - val_acc: 0.7200\n",
            "Epoch 15/100\n",
            "Epoch 1/100\n",
            "100/100 - 17s - loss: 0.5707 - acc: 0.7065 - val_loss: 0.5475 - val_acc: 0.7040\n",
            "Epoch 16/100\n",
            "Epoch 1/100\n",
            "100/100 - 17s - loss: 0.5559 - acc: 0.7270 - val_loss: 0.5425 - val_acc: 0.6980\n",
            "Epoch 17/100\n",
            "Epoch 1/100\n",
            "100/100 - 17s - loss: 0.5480 - acc: 0.7150 - val_loss: 0.5186 - val_acc: 0.7260\n",
            "Epoch 18/100\n",
            "Epoch 1/100\n",
            "100/100 - 17s - loss: 0.5513 - acc: 0.7210 - val_loss: 0.5066 - val_acc: 0.7390\n",
            "Epoch 19/100\n",
            "Epoch 1/100\n",
            "100/100 - 17s - loss: 0.5324 - acc: 0.7285 - val_loss: 0.5292 - val_acc: 0.7290\n",
            "Epoch 20/100\n",
            "Epoch 1/100\n",
            "100/100 - 17s - loss: 0.5330 - acc: 0.7310 - val_loss: 0.5184 - val_acc: 0.7310\n",
            "Epoch 21/100\n",
            "Epoch 1/100\n",
            "100/100 - 17s - loss: 0.5429 - acc: 0.7210 - val_loss: 0.4906 - val_acc: 0.7560\n",
            "Epoch 22/100\n",
            "Epoch 1/100\n",
            "100/100 - 17s - loss: 0.5345 - acc: 0.7240 - val_loss: 0.4962 - val_acc: 0.7520\n",
            "Epoch 23/100\n",
            "Epoch 1/100\n",
            "100/100 - 17s - loss: 0.5292 - acc: 0.7310 - val_loss: 0.5016 - val_acc: 0.7490\n",
            "Epoch 24/100\n",
            "Epoch 1/100\n",
            "100/100 - 17s - loss: 0.5264 - acc: 0.7410 - val_loss: 0.4865 - val_acc: 0.7560\n",
            "Epoch 25/100\n",
            "Epoch 1/100\n",
            "100/100 - 17s - loss: 0.5279 - acc: 0.7365 - val_loss: 0.4867 - val_acc: 0.7640\n",
            "Epoch 26/100\n",
            "Epoch 1/100\n",
            "100/100 - 17s - loss: 0.5093 - acc: 0.7470 - val_loss: 0.5102 - val_acc: 0.7460\n",
            "Epoch 27/100\n",
            "Epoch 1/100\n",
            "100/100 - 17s - loss: 0.5111 - acc: 0.7410 - val_loss: 0.5039 - val_acc: 0.7440\n",
            "Epoch 28/100\n",
            "Epoch 1/100\n",
            "100/100 - 18s - loss: 0.5147 - acc: 0.7390 - val_loss: 0.4840 - val_acc: 0.7540\n",
            "Epoch 29/100\n",
            "Epoch 1/100\n",
            "100/100 - 17s - loss: 0.5149 - acc: 0.7445 - val_loss: 0.4845 - val_acc: 0.7630\n",
            "Epoch 30/100\n",
            "Epoch 1/100\n",
            "100/100 - 17s - loss: 0.5031 - acc: 0.7465 - val_loss: 0.4588 - val_acc: 0.7730\n",
            "Epoch 31/100\n",
            "Epoch 1/100\n",
            "100/100 - 17s - loss: 0.4965 - acc: 0.7560 - val_loss: 0.4612 - val_acc: 0.7630\n",
            "Epoch 32/100\n",
            "Epoch 1/100\n",
            "100/100 - 17s - loss: 0.5034 - acc: 0.7455 - val_loss: 0.5347 - val_acc: 0.7250\n",
            "Epoch 33/100\n",
            "Epoch 1/100\n",
            "100/100 - 17s - loss: 0.5003 - acc: 0.7505 - val_loss: 0.4582 - val_acc: 0.7700\n",
            "Epoch 34/100\n",
            "Epoch 1/100\n",
            "100/100 - 17s - loss: 0.4950 - acc: 0.7530 - val_loss: 0.4959 - val_acc: 0.7460\n",
            "Epoch 35/100\n",
            "Epoch 1/100\n",
            "100/100 - 18s - loss: 0.5026 - acc: 0.7425 - val_loss: 0.4500 - val_acc: 0.7850\n",
            "Epoch 36/100\n",
            "Epoch 1/100\n",
            "100/100 - 17s - loss: 0.4861 - acc: 0.7640 - val_loss: 0.4656 - val_acc: 0.7780\n",
            "Epoch 37/100\n",
            "Epoch 1/100\n",
            "100/100 - 17s - loss: 0.4794 - acc: 0.7565 - val_loss: 0.4524 - val_acc: 0.7750\n",
            "Epoch 38/100\n",
            "Epoch 1/100\n",
            "100/100 - 17s - loss: 0.4931 - acc: 0.7565 - val_loss: 0.4511 - val_acc: 0.7920\n",
            "Epoch 39/100\n",
            "Epoch 1/100\n",
            "100/100 - 17s - loss: 0.4784 - acc: 0.7730 - val_loss: 0.4573 - val_acc: 0.7790\n",
            "Epoch 40/100\n",
            "Epoch 1/100\n",
            "100/100 - 17s - loss: 0.4835 - acc: 0.7580 - val_loss: 0.4569 - val_acc: 0.7930\n",
            "Epoch 41/100\n",
            "Epoch 1/100\n",
            "100/100 - 17s - loss: 0.4815 - acc: 0.7720 - val_loss: 0.4385 - val_acc: 0.7850\n",
            "Epoch 42/100\n",
            "Epoch 1/100\n",
            "100/100 - 17s - loss: 0.4847 - acc: 0.7665 - val_loss: 0.4494 - val_acc: 0.7810\n",
            "Epoch 43/100\n",
            "Epoch 1/100\n",
            "100/100 - 17s - loss: 0.4793 - acc: 0.7695 - val_loss: 0.5368 - val_acc: 0.7310\n",
            "Epoch 44/100\n",
            "Epoch 1/100\n",
            "100/100 - 17s - loss: 0.4696 - acc: 0.7805 - val_loss: 0.4595 - val_acc: 0.7690\n",
            "Epoch 45/100\n",
            "Epoch 1/100\n",
            "100/100 - 17s - loss: 0.4708 - acc: 0.7755 - val_loss: 0.4489 - val_acc: 0.7840\n",
            "Epoch 46/100\n",
            "Epoch 1/100\n",
            "100/100 - 17s - loss: 0.4429 - acc: 0.7930 - val_loss: 0.4946 - val_acc: 0.7640\n",
            "Epoch 47/100\n",
            "Epoch 1/100\n",
            "100/100 - 17s - loss: 0.4450 - acc: 0.7950 - val_loss: 0.4686 - val_acc: 0.7700\n",
            "Epoch 48/100\n",
            "Epoch 1/100\n",
            "100/100 - 17s - loss: 0.4537 - acc: 0.7835 - val_loss: 0.4530 - val_acc: 0.7730\n",
            "Epoch 49/100\n",
            "Epoch 1/100\n",
            "100/100 - 18s - loss: 0.4569 - acc: 0.7785 - val_loss: 0.4843 - val_acc: 0.7580\n",
            "Epoch 50/100\n",
            "Epoch 1/100\n",
            "100/100 - 17s - loss: 0.4573 - acc: 0.7835 - val_loss: 0.4609 - val_acc: 0.7890\n",
            "Epoch 51/100\n",
            "Epoch 1/100\n",
            "100/100 - 17s - loss: 0.4568 - acc: 0.7825 - val_loss: 0.4655 - val_acc: 0.7580\n",
            "Epoch 52/100\n",
            "Epoch 1/100\n",
            "100/100 - 18s - loss: 0.4594 - acc: 0.7800 - val_loss: 0.4321 - val_acc: 0.7890\n",
            "Epoch 53/100\n",
            "Epoch 1/100\n",
            "100/100 - 17s - loss: 0.4532 - acc: 0.7780 - val_loss: 0.4869 - val_acc: 0.7490\n",
            "Epoch 54/100\n",
            "Epoch 1/100\n",
            "100/100 - 17s - loss: 0.4577 - acc: 0.7865 - val_loss: 0.4306 - val_acc: 0.7940\n",
            "Epoch 55/100\n",
            "Epoch 1/100\n",
            "\n",
            "Reached 80% accuracy so cancelling training!\n",
            "100/100 - 17s - loss: 0.4269 - acc: 0.8045 - val_loss: 0.4253 - val_acc: 0.8000\n"
          ],
          "name": "stdout"
        }
      ]
    },
    {
      "cell_type": "markdown",
      "metadata": {
        "id": "ffHdHmd-tRYr",
        "colab_type": "text"
      },
      "source": [
        "**Evaluating Accuracy and Loss for the Model**\n",
        "\n",
        "\n",
        "---\n",
        "\n",
        "\n",
        "Let's plot the training/validation accuracy and loss as collected during training:"
      ]
    },
    {
      "cell_type": "code",
      "metadata": {
        "id": "IODi0LCCmqr6",
        "colab_type": "code",
        "colab": {
          "base_uri": "https://localhost:8080/",
          "height": 545
        },
        "outputId": "529dc6b1-46b7-463d-e2e6-47d20429d166"
      },
      "source": [
        "import matplotlib.pyplot as plt\n",
        "\n",
        "acc = history.history['acc']\n",
        "val_acc = history.history['val_acc']\n",
        "loss = history.history['loss']\n",
        "val_loss = history.history['val_loss']\n",
        "\n",
        "epochs = range(len(acc))\n",
        "\n",
        "plt.plot(epochs, acc, 'bo', label='Training accuracy')\n",
        "plt.plot(epochs, val_acc, 'b', label='Validation accuracy')\n",
        "plt.title('Training and validation accuracy')\n",
        "\n",
        "plt.figure()\n",
        "\n",
        "plt.plot(epochs, loss, 'bo', label='Training Loss')\n",
        "plt.plot(epochs, val_loss, 'b', label='Validation Loss')\n",
        "plt.title('Training and validation loss')\n",
        "plt.legend()\n",
        "\n",
        "plt.show()"
      ],
      "execution_count": 8,
      "outputs": [
        {
          "output_type": "display_data",
          "data": {
            "image/png": "[encoded data removed]",
            "text/plain": [
              "<Figure size 432x288 with 1 Axes>"
            ]
          },
          "metadata": {
            "tags": []
          }
        },
        {
          "output_type": "display_data",
          "data": {
            "image/png": "[encoded data removed]",
            "text/plain": [
              "<Figure size 432x288 with 1 Axes>"
            ]
          },
          "metadata": {
            "tags": []
          }
        }
      ]
    },
    {
      "cell_type": "markdown",
      "metadata": {
        "id": "kO5DR_WPwyEM",
        "colab_type": "text"
      },
      "source": [
        "**Test the Dogs vs. Cats classifier**"
      ]
    },
    {
      "cell_type": "code",
      "metadata": {
        "id": "JHEViUpdvTs4",
        "colab_type": "code",
        "colab": {
          "base_uri": "https://localhost:8080/",
          "height": 303
        },
        "outputId": "79c13e46-646e-43d4-f8f0-6461e3e3eacc"
      },
      "source": [
        "import numpy as np\n",
        "from matplotlib.pyplot import imshow\n",
        "from tensorflow.keras.preprocessing import image\n",
        "\n",
        "img_path = '/content/new_image.jpg'\n",
        "img = image.load_img(img_path, target_size=(150, 150))\n",
        "imshow(img)\n",
        "\n",
        "x = image.img_to_array(img)\n",
        "x = np.expand_dims(x, axis=0)\n",
        "images = np.vstack([x])\n",
        "classes = model.predict(images, batch_size=10)\n",
        "  \n",
        "print(classes[0])\n",
        "  \n",
        "if classes[0]>0:\n",
        "   print(\"It is a dog.\")\n",
        "    \n",
        "else:\n",
        "   print(\"It is a cat.\")\n",
        " "
      ],
      "execution_count": 9,
      "outputs": [
        {
          "output_type": "stream",
          "text": [
            "[1.]\n",
            "It is a dog.\n"
          ],
          "name": "stdout"
        },
        {
          "output_type": "display_data",
          "data": {
            "image/png": "[encoded data removed]",
            "text/plain": [
              "<Figure size 432x288 with 1 Axes>"
            ]
          },
          "metadata": {
            "tags": []
          }
        }
      ]
    }
  ]
}